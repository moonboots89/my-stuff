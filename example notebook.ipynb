{
 "cells": [
  {
   "cell_type": "code",
   "execution_count": 1,
   "metadata": {},
   "source": [
    "var numbers = new List<int> { 1, 2, 3 };\r\n",
    "Console.WriteLine(string.Join(\", \", numbers));"
   ],
   "outputs": [
    {
     "output_type": "execute_result",
     "data": {
      "text/plain": "1, 2, 3\r\n"
     },
     "execution_count": 1,
     "metadata": {}
    }
   ]
  },
  {
   "cell_type": "code",
   "execution_count": 1,
   "metadata": {},
   "source": [
    ""
   ],
   "outputs": []
  },
  {
   "cell_type": "code",
   "execution_count": 1,
   "metadata": {},
   "source": [
    "#!fsharp\r\n",
    "let numbers = [1..3]\r\n",
    "\r\n",
    "let convertToString = List.map (sprintf \"%i\") >> String.concat \",\"\r\n",
    "\r\n",
    "numbers |> (List.map (sprintf \"%i\") >> String.concat \",\")"
   ],
   "outputs": [
    {
     "output_type": "execute_result",
     "data": {
      "text/plain": "1,2,3"
     },
     "execution_count": 1,
     "metadata": {}
    }
   ]
  },
  {
   "cell_type": "code",
   "execution_count": 1,
   "metadata": {},
   "source": [
    "#!fsharp\r\n",
    "let negate x = x * -1 \r\n",
    "let square x = x * x \r\n",
    "let print  x = printfn \"The number is: %d\" x\r\n",
    "let square_negate_then_print = square >> negate >> print \r\n",
    "square_negate_then_print 2"
   ],
   "outputs": [
    {
     "output_type": "execute_result",
     "data": {
      "text/plain": "The number is: "
     },
     "execution_count": 1,
     "metadata": {}
    },
    {
     "output_type": "execute_result",
     "data": {
      "text/plain": "-4"
     },
     "execution_count": 1,
     "metadata": {}
    },
    {
     "output_type": "execute_result",
     "data": {
      "text/plain": "\r\n"
     },
     "execution_count": 1,
     "metadata": {}
    }
   ]
  }
 ],
 "metadata": {
  "kernelspec": {
   "display_name": ".NET (C#)",
   "language": "C#",
   "name": ".net-csharp"
  },
  "language_info": {
   "file_extension": ".cs",
   "mimetype": "text/x-csharp",
   "name": "C#",
   "pygments_lexer": "csharp",
   "version": "8.0"
  }
 },
 "nbformat": 4,
 "nbformat_minor": 4
}